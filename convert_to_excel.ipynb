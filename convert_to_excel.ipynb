{
 "cells": [
  {
   "cell_type": "code",
   "execution_count": 3,
   "metadata": {},
   "outputs": [],
   "source": [
    "import os\n",
    "import json\n",
    "import time\n",
    "import pandas as pd\n"
   ]
  },
  {
   "cell_type": "code",
   "execution_count": 10,
   "metadata": {},
   "outputs": [
    {
     "name": "stderr",
     "output_type": "stream",
     "text": [
      "/var/folders/08/p1z1c8c126l84xc2g6szk34w0000gn/T/ipykernel_12574/1670375389.py:1: DtypeWarning: Columns (0,5,6,9,10,11,19,20,24,26,31,36,48,50,53,58,60,66,70,85,88,90,95,125,130) have mixed types. Specify dtype option on import or set low_memory=False.\n",
      "  df = pd.read_csv('./2019-04-01_2019-04-30')\n"
     ]
    }
   ],
   "source": [
    "df = pd.read_csv('./2019-04-01_2019-04-30')"
   ]
  },
  {
   "cell_type": "code",
   "execution_count": 9,
   "metadata": {},
   "outputs": [],
   "source": [
    "df['content'].to_excel('first.xlsx')"
   ]
  }
 ],
 "metadata": {
  "kernelspec": {
   "display_name": "Python 3",
   "language": "python",
   "name": "python3"
  },
  "language_info": {
   "codemirror_mode": {
    "name": "ipython",
    "version": 3
   },
   "file_extension": ".py",
   "mimetype": "text/x-python",
   "name": "python",
   "nbconvert_exporter": "python",
   "pygments_lexer": "ipython3",
   "version": "3.11.2"
  },
  "orig_nbformat": 4
 },
 "nbformat": 4,
 "nbformat_minor": 2
}
