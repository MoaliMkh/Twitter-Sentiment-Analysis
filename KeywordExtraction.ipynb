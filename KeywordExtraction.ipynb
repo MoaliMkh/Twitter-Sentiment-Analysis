{
 "cells": [
  {
   "cell_type": "code",
   "execution_count": 6,
   "metadata": {},
   "outputs": [
    {
     "name": "stdout",
     "output_type": "stream",
     "text": [
      "('اینستاگرم یادآوری کرد', 0.0019837913492187155)\n"
     ]
    }
   ],
   "source": [
    "import yake\n",
    "extractor = yake.KeywordExtractor(top=1)\n",
    "keywords = extractor.extract_keywords('اینستاگرم یادآوری کرد ۵سال پیش همچین روزی پیش‌دانشگاهی تموم شد و فکر می‌کردم قراره بعد از کنکور کون زندگی رو از خوشی جر بدم، اما برعکسش اتفاق افتاد، بدون ذره‌ای خوشی.')\n",
    "\n",
    "for kw in keywords:\n",
    "    print(kw)"
   ]
  }
 ],
 "metadata": {
  "kernelspec": {
   "display_name": "Python 3",
   "language": "python",
   "name": "python3"
  },
  "language_info": {
   "codemirror_mode": {
    "name": "ipython",
    "version": 3
   },
   "file_extension": ".py",
   "mimetype": "text/x-python",
   "name": "python",
   "nbconvert_exporter": "python",
   "pygments_lexer": "ipython3",
   "version": "3.11.2"
  },
  "orig_nbformat": 4
 },
 "nbformat": 4,
 "nbformat_minor": 2
}
