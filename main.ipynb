{
 "cells": [
  {
   "cell_type": "code",
   "execution_count": 11,
   "metadata": {},
   "outputs": [],
   "source": [
    "import os\n",
    "import json\n",
    "import time\n",
    "from tqdm import tqdm"
   ]
  },
  {
   "cell_type": "code",
   "execution_count": 13,
   "metadata": {},
   "outputs": [
    {
     "name": "stdout",
     "output_type": "stream",
     "text": [
      "{'1': 'SElahimanesh', '2': 'aexomir1', '3': '___mamali___', '4': 'mahdiAkhi'}\n"
     ]
    },
    {
     "name": "stderr",
     "output_type": "stream",
     "text": [
      "100%|██████████| 4/4 [00:13<00:00,  3.30s/it]\n"
     ]
    }
   ],
   "source": [
    "all_lines = []\n",
    "\n",
    "with open('users.json') as json_data:\n",
    "    users = json.load(json_data)\n",
    "    json_data.close()\n",
    "\n",
    "print(users)\n",
    "\n",
    "for index in tqdm(users.keys()):\n",
    "    os.system(f'snscrape --max-results 10 --jsonl twitter-user {users[index]} >output')\n",
    "\n",
    "    time.sleep(2)\n",
    "    file1 = open('output', 'r')\n",
    "    Lines = file1.readlines()\n",
    "    for line in Lines:\n",
    "        all_lines.append(json.loads(line.strip()))"
   ]
  },
  {
   "cell_type": "code",
   "execution_count": 3,
   "metadata": {},
   "outputs": [],
   "source": [
    "with open(\"tweets.txt\", \"w\") as file:\n",
    "    for line in all_lines:\n",
    "        file.write(line['rawContent'])\n",
    "        # print(line['rawContent'])\n",
    "        # print()"
   ]
  }
 ],
 "metadata": {
  "kernelspec": {
   "display_name": "Python 3",
   "language": "python",
   "name": "python3"
  },
  "language_info": {
   "codemirror_mode": {
    "name": "ipython",
    "version": 3
   },
   "file_extension": ".py",
   "mimetype": "text/x-python",
   "name": "python",
   "nbconvert_exporter": "python",
   "pygments_lexer": "ipython3",
   "version": "3.11.2"
  },
  "orig_nbformat": 4
 },
 "nbformat": 4,
 "nbformat_minor": 2
}
