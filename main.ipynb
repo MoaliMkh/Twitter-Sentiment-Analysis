{
 "cells": [
  {
   "cell_type": "code",
   "execution_count": 21,
   "metadata": {},
   "outputs": [],
   "source": [
    "import os\n",
    "import json\n",
    "import time\n",
    "import pandas as pd\n",
    "from tqdm.auto import tqdm"
   ]
  },
  {
   "cell_type": "code",
   "execution_count": 33,
   "metadata": {},
   "outputs": [
    {
     "name": "stderr",
     "output_type": "stream",
     "text": [
      "100%|██████████| 4/4 [00:12<00:00,  3.07s/it]\n"
     ]
    }
   ],
   "source": [
    "all_lines = []\n",
    "all_tweets = []\n",
    "\n",
    "with open('users.json') as json_data:\n",
    "    users = json.load(json_data)\n",
    "    json_data.close()\n",
    "\n",
    "for index in tqdm(users.keys()):\n",
    "    os.system(f'snscrape --max-results 10 --jsonl twitter-user {users[index]} >output')\n",
    "\n",
    "    time.sleep(2)\n",
    "    file1 = open('output', 'r')\n",
    "    Lines = file1.readlines()\n",
    "    for line in Lines:\n",
    "        all_lines.append(json.loads(line.strip()))\n",
    "\n",
    "\n",
    "for line in all_lines:\n",
    "    # if not line['inReplyToTweetId']:\n",
    "    if line['rawContent'][0] != '@':\n",
    "        all_tweets.append(line['rawContent'])\n",
    "\n",
    "df = pd.DataFrame()\n",
    "df['tweets'] = all_tweets"
   ]
  },
  {
   "cell_type": "code",
   "execution_count": 34,
   "metadata": {},
   "outputs": [
    {
     "data": {
      "text/html": [
       "<div>\n",
       "<style scoped>\n",
       "    .dataframe tbody tr th:only-of-type {\n",
       "        vertical-align: middle;\n",
       "    }\n",
       "\n",
       "    .dataframe tbody tr th {\n",
       "        vertical-align: top;\n",
       "    }\n",
       "\n",
       "    .dataframe thead th {\n",
       "        text-align: right;\n",
       "    }\n",
       "</style>\n",
       "<table border=\"1\" class=\"dataframe\">\n",
       "  <thead>\n",
       "    <tr style=\"text-align: right;\">\n",
       "      <th></th>\n",
       "      <th>tweets</th>\n",
       "    </tr>\n",
       "  </thead>\n",
       "  <tbody>\n",
       "    <tr>\n",
       "      <th>0</th>\n",
       "      <td>ما معتقدیم که علم و دانش باید فارغ از اعتقادات...</td>\n",
       "    </tr>\n",
       "    <tr>\n",
       "      <th>1</th>\n",
       "      <td>در ارائه یکی از اساتید، حساب کاربری ما دو بار ...</td>\n",
       "    </tr>\n",
       "    <tr>\n",
       "      <th>2</th>\n",
       "      <td>هشتمین دوره سری سمینارهای زمستانه (8th WSS) در...</td>\n",
       "    </tr>\n",
       "    <tr>\n",
       "      <th>3</th>\n",
       "      <td>آخه فک کن\\nدانشجوی شریفی\\nهیچ‌وقت، لیترالی هیچ...</td>\n",
       "    </tr>\n",
       "    <tr>\n",
       "      <th>4</th>\n",
       "      <td>ولی مغز  trainable عه ها..\\nبعضی خاطره ها توی ...</td>\n",
       "    </tr>\n",
       "    <tr>\n",
       "      <th>5</th>\n",
       "      <td>نمیدونم چرا هی می‌نویسم و درفت میکنم :/</td>\n",
       "    </tr>\n",
       "    <tr>\n",
       "      <th>6</th>\n",
       "      <td>“Whenever I have a good few months and I think...</td>\n",
       "    </tr>\n",
       "    <tr>\n",
       "      <th>7</th>\n",
       "      <td>زیگماهای تایملاین همدیگه رو پیدا کنیم. 🙈</td>\n",
       "    </tr>\n",
       "    <tr>\n",
       "      <th>8</th>\n",
       "      <td>خرداد این خانم خوشگله بود؟ پس چرا ما دهنمون صا...</td>\n",
       "    </tr>\n",
       "    <tr>\n",
       "      <th>9</th>\n",
       "      <td>خوبی خوردن گیلاس تو تاریکی اینه که کرم‌ها رو ن...</td>\n",
       "    </tr>\n",
       "    <tr>\n",
       "      <th>10</th>\n",
       "      <td>ححححققق! https://t.co/uuwPS9O4RM</td>\n",
       "    </tr>\n",
       "    <tr>\n",
       "      <th>11</th>\n",
       "      <td>حیف وقت که می‌ذارم جوابتو می‌دم، اما خب!\\nبدی ...</td>\n",
       "    </tr>\n",
       "  </tbody>\n",
       "</table>\n",
       "</div>"
      ],
      "text/plain": [
       "                                               tweets\n",
       "0   ما معتقدیم که علم و دانش باید فارغ از اعتقادات...\n",
       "1   در ارائه یکی از اساتید، حساب کاربری ما دو بار ...\n",
       "2   هشتمین دوره سری سمینارهای زمستانه (8th WSS) در...\n",
       "3   آخه فک کن\\nدانشجوی شریفی\\nهیچ‌وقت، لیترالی هیچ...\n",
       "4   ولی مغز  trainable عه ها..\\nبعضی خاطره ها توی ...\n",
       "5             نمیدونم چرا هی می‌نویسم و درفت میکنم :/\n",
       "6   “Whenever I have a good few months and I think...\n",
       "7            زیگماهای تایملاین همدیگه رو پیدا کنیم. 🙈\n",
       "8   خرداد این خانم خوشگله بود؟ پس چرا ما دهنمون صا...\n",
       "9   خوبی خوردن گیلاس تو تاریکی اینه که کرم‌ها رو ن...\n",
       "10                   ححححققق! https://t.co/uuwPS9O4RM\n",
       "11  حیف وقت که می‌ذارم جوابتو می‌دم، اما خب!\\nبدی ..."
      ]
     },
     "execution_count": 34,
     "metadata": {},
     "output_type": "execute_result"
    }
   ],
   "source": [
    "df"
   ]
  },
  {
   "cell_type": "code",
   "execution_count": null,
   "metadata": {},
   "outputs": [],
   "source": []
  },
  {
   "cell_type": "code",
   "execution_count": 20,
   "metadata": {},
   "outputs": [],
   "source": [
    "with open(\"tweets.txt\", \"w\") as file:\n",
    "    for line in all_lines:\n",
    "        file.write(line['rawContent'])\n",
    "        file.write('\\n')"
   ]
  }
 ],
 "metadata": {
  "kernelspec": {
   "display_name": "Python 3",
   "language": "python",
   "name": "python3"
  },
  "language_info": {
   "codemirror_mode": {
    "name": "ipython",
    "version": 3
   },
   "file_extension": ".py",
   "mimetype": "text/x-python",
   "name": "python",
   "nbconvert_exporter": "python",
   "pygments_lexer": "ipython3",
   "version": "3.11.2"
  },
  "orig_nbformat": 4
 },
 "nbformat": 4,
 "nbformat_minor": 2
}
