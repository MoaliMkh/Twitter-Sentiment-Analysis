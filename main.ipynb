{
 "cells": [
  {
   "cell_type": "code",
   "execution_count": 1,
   "metadata": {},
   "outputs": [
    {
     "name": "stderr",
     "output_type": "stream",
     "text": [
      "/opt/homebrew/lib/python3.11/site-packages/tqdm/auto.py:21: TqdmWarning: IProgress not found. Please update jupyter and ipywidgets. See https://ipywidgets.readthedocs.io/en/stable/user_install.html\n",
      "  from .autonotebook import tqdm as notebook_tqdm\n"
     ]
    }
   ],
   "source": [
    "import os\n",
    "import json\n",
    "import time\n",
    "import pandas as pd\n",
    "from tqdm.auto import tqdm"
   ]
  },
  {
   "cell_type": "code",
   "execution_count": 2,
   "metadata": {},
   "outputs": [
    {
     "name": "stderr",
     "output_type": "stream",
     "text": [
      "  0%|          | 0/12 [00:00<?, ?it/s]"
     ]
    },
    {
     "name": "stderr",
     "output_type": "stream",
     "text": [
      "2023-07-25 21:44:23.796  ERROR  snscrape.base  Error retrieving https://twitter.com/i/api/graphql/7jT5GT59P8IFjgxwqnEdQw/SearchTimeline?variables=%7B%22rawQuery%22%3A%22from%3ASElahimanesh%22%2C%22count%22%3A20%2C%22product%22%3A%22Latest%22%2C%22withDownvotePerspective%22%3Afalse%2C%22withReactionsMetadata%22%3Afalse%2C%22withReactionsPerspective%22%3Afalse%7D&features=%7B%22rweb_lists_timeline_redesign_enabled%22%3Afalse%2C%22blue_business_profile_image_shape_enabled%22%3Afalse%2C%22responsive_web_graphql_exclude_directive_enabled%22%3Atrue%2C%22verified_phone_label_enabled%22%3Afalse%2C%22creator_subscriptions_tweet_preview_api_enabled%22%3Afalse%2C%22responsive_web_graphql_timeline_navigation_enabled%22%3Atrue%2C%22responsive_web_graphql_skip_user_profile_image_extensions_enabled%22%3Afalse%2C%22tweetypie_unmention_optimization_enabled%22%3Atrue%2C%22vibe_api_enabled%22%3Atrue%2C%22responsive_web_edit_tweet_api_enabled%22%3Atrue%2C%22graphql_is_translatable_rweb_tweet_is_translatable_enabled%22%3Atrue%2C%22view_counts_everywhere_api_enabled%22%3Atrue%2C%22longform_notetweets_consumption_enabled%22%3Atrue%2C%22tweet_awards_web_tipping_enabled%22%3Afalse%2C%22freedom_of_speech_not_reach_fetch_enabled%22%3Afalse%2C%22standardized_nudges_misinfo%22%3Atrue%2C%22tweet_with_visibility_results_prefer_gql_limited_actions_policy_enabled%22%3Afalse%2C%22interactive_text_enabled%22%3Atrue%2C%22responsive_web_text_conversations_enabled%22%3Afalse%2C%22longform_notetweets_rich_text_read_enabled%22%3Afalse%2C%22longform_notetweets_inline_media_enabled%22%3Afalse%2C%22responsive_web_enhance_cards_enabled%22%3Afalse%2C%22responsive_web_twitter_blue_verified_badge_is_enabled%22%3Atrue%7D: blocked (404)\n",
      "2023-07-25 21:44:23.796  CRITICAL  snscrape.base  4 requests to https://twitter.com/i/api/graphql/7jT5GT59P8IFjgxwqnEdQw/SearchTimeline?variables=%7B%22rawQuery%22%3A%22from%3ASElahimanesh%22%2C%22count%22%3A20%2C%22product%22%3A%22Latest%22%2C%22withDownvotePerspective%22%3Afalse%2C%22withReactionsMetadata%22%3Afalse%2C%22withReactionsPerspective%22%3Afalse%7D&features=%7B%22rweb_lists_timeline_redesign_enabled%22%3Afalse%2C%22blue_business_profile_image_shape_enabled%22%3Afalse%2C%22responsive_web_graphql_exclude_directive_enabled%22%3Atrue%2C%22verified_phone_label_enabled%22%3Afalse%2C%22creator_subscriptions_tweet_preview_api_enabled%22%3Afalse%2C%22responsive_web_graphql_timeline_navigation_enabled%22%3Atrue%2C%22responsive_web_graphql_skip_user_profile_image_extensions_enabled%22%3Afalse%2C%22tweetypie_unmention_optimization_enabled%22%3Atrue%2C%22vibe_api_enabled%22%3Atrue%2C%22responsive_web_edit_tweet_api_enabled%22%3Atrue%2C%22graphql_is_translatable_rweb_tweet_is_translatable_enabled%22%3Atrue%2C%22view_counts_everywhere_api_enabled%22%3Atrue%2C%22longform_notetweets_consumption_enabled%22%3Atrue%2C%22tweet_awards_web_tipping_enabled%22%3Afalse%2C%22freedom_of_speech_not_reach_fetch_enabled%22%3Afalse%2C%22standardized_nudges_misinfo%22%3Atrue%2C%22tweet_with_visibility_results_prefer_gql_limited_actions_policy_enabled%22%3Afalse%2C%22interactive_text_enabled%22%3Atrue%2C%22responsive_web_text_conversations_enabled%22%3Afalse%2C%22longform_notetweets_rich_text_read_enabled%22%3Afalse%2C%22longform_notetweets_inline_media_enabled%22%3Afalse%2C%22responsive_web_enhance_cards_enabled%22%3Afalse%2C%22responsive_web_twitter_blue_verified_badge_is_enabled%22%3Atrue%7D failed, giving up.\n",
      "2023-07-25 21:44:23.797  CRITICAL  snscrape.base  Errors: blocked (404), blocked (404), blocked (404), blocked (404)\n",
      "2023-07-25 21:44:23.828  CRITICAL  snscrape._cli  Dumped stack and locals to /var/folders/08/p1z1c8c126l84xc2g6szk34w0000gn/T/snscrape_locals_dgz2cel8\n",
      "Traceback (most recent call last):\n",
      "  File \"/opt/homebrew/bin/snscrape\", line 8, in <module>\n",
      "    sys.exit(main())\n",
      "             ^^^^^^\n",
      "  File \"/opt/homebrew/lib/python3.11/site-packages/snscrape/_cli.py\", line 323, in main\n",
      "    for i, item in enumerate(scraper.get_items(), start = 1):\n",
      "  File \"/opt/homebrew/lib/python3.11/site-packages/snscrape/modules/twitter.py\", line 1782, in get_items\n",
      "    yield from super().get_items()\n",
      "  File \"/opt/homebrew/lib/python3.11/site-packages/snscrape/modules/twitter.py\", line 1721, in get_items\n",
      "    for obj in self._iter_api_data('https://twitter.com/i/api/graphql/7jT5GT59P8IFjgxwqnEdQw/SearchTimeline', _TwitterAPIType.GRAPHQL, params, paginationParams, cursor = self._cursor, instructionsPath = ['data', 'search_by_raw_query', 'search_timeline', 'timeline', 'instructions']):\n",
      "  File \"/opt/homebrew/lib/python3.11/site-packages/snscrape/modules/twitter.py\", line 876, in _iter_api_data\n",
      "    obj = self._get_api_data(endpoint, apiType, reqParams, instructionsPath = instructionsPath)\n",
      "          ^^^^^^^^^^^^^^^^^^^^^^^^^^^^^^^^^^^^^^^^^^^^^^^^^^^^^^^^^^^^^^^^^^^^^^^^^^^^^^^^^^^^^\n",
      "  File \"/opt/homebrew/lib/python3.11/site-packages/snscrape/modules/twitter.py\", line 847, in _get_api_data\n",
      "    r = self._get(endpoint, params = params, headers = self._apiHeaders, responseOkCallback = functools.partial(self._check_api_response, apiType = apiType, instructionsPath = instructionsPath))\n",
      "        ^^^^^^^^^^^^^^^^^^^^^^^^^^^^^^^^^^^^^^^^^^^^^^^^^^^^^^^^^^^^^^^^^^^^^^^^^^^^^^^^^^^^^^^^^^^^^^^^^^^^^^^^^^^^^^^^^^^^^^^^^^^^^^^^^^^^^^^^^^^^^^^^^^^^^^^^^^^^^^^^^^^^^^^^^^^^^^^^^^^^^^^^^^\n",
      "  File \"/opt/homebrew/lib/python3.11/site-packages/snscrape/base.py\", line 272, in _get\n",
      "    return self._request('GET', *args, **kwargs)\n",
      "           ^^^^^^^^^^^^^^^^^^^^^^^^^^^^^^^^^^^^^\n",
      "  File \"/opt/homebrew/lib/python3.11/site-packages/snscrape/base.py\", line 268, in _request\n",
      "    raise ScraperException(msg)\n",
      "snscrape.base.ScraperException: 4 requests to https://twitter.com/i/api/graphql/7jT5GT59P8IFjgxwqnEdQw/SearchTimeline?variables=%7B%22rawQuery%22%3A%22from%3ASElahimanesh%22%2C%22count%22%3A20%2C%22product%22%3A%22Latest%22%2C%22withDownvotePerspective%22%3Afalse%2C%22withReactionsMetadata%22%3Afalse%2C%22withReactionsPerspective%22%3Afalse%7D&features=%7B%22rweb_lists_timeline_redesign_enabled%22%3Afalse%2C%22blue_business_profile_image_shape_enabled%22%3Afalse%2C%22responsive_web_graphql_exclude_directive_enabled%22%3Atrue%2C%22verified_phone_label_enabled%22%3Afalse%2C%22creator_subscriptions_tweet_preview_api_enabled%22%3Afalse%2C%22responsive_web_graphql_timeline_navigation_enabled%22%3Atrue%2C%22responsive_web_graphql_skip_user_profile_image_extensions_enabled%22%3Afalse%2C%22tweetypie_unmention_optimization_enabled%22%3Atrue%2C%22vibe_api_enabled%22%3Atrue%2C%22responsive_web_edit_tweet_api_enabled%22%3Atrue%2C%22graphql_is_translatable_rweb_tweet_is_translatable_enabled%22%3Atrue%2C%22view_counts_everywhere_api_enabled%22%3Atrue%2C%22longform_notetweets_consumption_enabled%22%3Atrue%2C%22tweet_awards_web_tipping_enabled%22%3Afalse%2C%22freedom_of_speech_not_reach_fetch_enabled%22%3Afalse%2C%22standardized_nudges_misinfo%22%3Atrue%2C%22tweet_with_visibility_results_prefer_gql_limited_actions_policy_enabled%22%3Afalse%2C%22interactive_text_enabled%22%3Atrue%2C%22responsive_web_text_conversations_enabled%22%3Afalse%2C%22longform_notetweets_rich_text_read_enabled%22%3Afalse%2C%22longform_notetweets_inline_media_enabled%22%3Afalse%2C%22responsive_web_enhance_cards_enabled%22%3Afalse%2C%22responsive_web_twitter_blue_verified_badge_is_enabled%22%3Atrue%7D failed, giving up.\n",
      "  8%|▊         | 1/12 [00:15<02:54, 15.88s/it]"
     ]
    }
   ],
   "source": [
    "all_lines = []\n",
    "all_tweets = []\n",
    "\n",
    "with open('users.json') as json_data:\n",
    "    users = json.load(json_data)\n",
    "    json_data.close()\n",
    "\n",
    "for index in tqdm(users.keys()):\n",
    "    os.system(f'snscrape --max-results 20 --jsonl twitter-user SElahimanesh >output')\n",
    "\n",
    "    time.sleep(2)\n",
    "    file1 = open('output', 'r')\n",
    "    Lines = file1.readlines()\n",
    "    for line in Lines:\n",
    "        all_lines.append(json.loads(line.strip()))\n",
    "\n",
    "\n",
    "for line in all_lines:\n",
    "    # if not line['inReplyToTweetId']:\n",
    "    if line['rawContent'][0] != '@':\n",
    "        all_tweets.append(line['rawContent'])\n",
    "    else:\n",
    "        if len(line['rawContent']) >= 25:\n",
    "            all_tweets.append(line['rawContent'])\n",
    "\n",
    "\n",
    "df = pd.DataFrame()\n",
    "df['tweets'] = all_tweets"
   ]
  },
  {
   "cell_type": "code",
   "execution_count": 45,
   "metadata": {},
   "outputs": [],
   "source": [
    "df.to_excel('tweets.xlsx')"
   ]
  },
  {
   "cell_type": "code",
   "execution_count": null,
   "metadata": {},
   "outputs": [],
   "source": []
  },
  {
   "cell_type": "code",
   "execution_count": 20,
   "metadata": {},
   "outputs": [],
   "source": [
    "with open(\"tweets.txt\", \"w\") as file:\n",
    "    for line in all_lines:\n",
    "        file.write(line['rawContent'])\n",
    "        file.write('\\n')"
   ]
  },
  {
   "cell_type": "code",
   "execution_count": 4,
   "metadata": {},
   "outputs": [
    {
     "name": "stdout",
     "output_type": "stream",
     "text": [
      "Tweet(id=1519480761749016577, author=User(id=44196397, username=elonmusk, name=Elon Musk, verified=True), created_on=2022-04-28 00:56:58+00:00)\n",
      "Tweet(id=1518623997054918657, author=User(id=44196397, username=elonmusk, name=Elon Musk, verified=True), created_on=2022-04-25 16:12:30+00:00)\n",
      "Tweet(id=1519495072802390016, author=User(id=44196397, username=elonmusk, name=Elon Musk, verified=True), created_on=2022-04-28 01:53:50+00:00)\n",
      "Tweet(id=1518677066325053441, author=User(id=44196397, username=elonmusk, name=Elon Musk, verified=True), created_on=2022-04-25 19:43:22+00:00)\n",
      "Tweet(id=1519495982723084290, author=User(id=44196397, username=elonmusk, name=Elon Musk, verified=True), created_on=2022-04-28 01:57:27+00:00)\n",
      "Tweet(id=1585841080431321088, author=User(id=44196397, username=elonmusk, name=Elon Musk, verified=True), created_on=2022-10-28 03:49:11+00:00)\n",
      "Tweet(id=1586104694421659648, author=User(id=44196397, username=elonmusk, name=Elon Musk, verified=True), created_on=2022-10-28 21:16:42+00:00)\n",
      "Tweet(id=1593459801966538755, author=User(id=44196397, username=elonmusk, name=Elon Musk, verified=True), created_on=2022-11-18 04:23:16+00:00)\n",
      "Tweet(id=1523465632502906880, author=User(id=44196397, username=elonmusk, name=Elon Musk, verified=True), created_on=2022-05-09 00:51:26+00:00)\n",
      "Tweet(id=1587894226695884800, author=User(id=44196397, username=elonmusk, name=Elon Musk, verified=True), created_on=2022-11-02 19:47:39+00:00)\n",
      "Tweet(id=1236029449042198528, author=User(id=44196397, username=elonmusk, name=Elon Musk, verified=True), created_on=2020-03-06 20:42:39+00:00)\n",
      "Tweet(id=1519020176884305920, author=User(id=44196397, username=elonmusk, name=Elon Musk, verified=True), created_on=2022-04-26 18:26:46+00:00)\n",
      "Tweet(id=1519735033950470144, author=User(id=44196397, username=elonmusk, name=Elon Musk, verified=True), created_on=2022-04-28 17:47:22+00:00)\n",
      "Tweet(id=1519415674111672325, author=User(id=44196397, username=elonmusk, name=Elon Musk, verified=True), created_on=2022-04-27 20:38:20+00:00)\n",
      "Tweet(id=1479236333516165121, author=User(id=44196397, username=elonmusk, name=Elon Musk, verified=True), created_on=2022-01-06 23:39:59+00:00)\n",
      "Tweet(id=1685096284275802112, author=User(id=44196397, username=elonmusk, name=Elon Musk, verified=True), created_on=2023-07-29 01:13:56+00:00)\n",
      "Tweet(id=1670234980776132608, author=User(id=44196397, username=elonmusk, name=Elon Musk, verified=True), created_on=2023-06-18 01:00:25+00:00)\n",
      "Tweet(id=1519469891455234048, author=User(id=44196397, username=elonmusk, name=Elon Musk, verified=True), created_on=2022-04-28 00:13:47+00:00)\n",
      "Tweet(id=1625368108461613057, author=User(id=44196397, username=elonmusk, name=Elon Musk, verified=True), created_on=2023-02-14 05:35:29+00:00)\n",
      "Tweet(id=1517707521343082496, author=User(id=44196397, username=elonmusk, name=Elon Musk, verified=True), created_on=2022-04-23 03:30:45+00:00)\n",
      "Tweet(id=1531647849599057921, author=User(id=44196397, username=elonmusk, name=Elon Musk, verified=True), created_on=2022-05-31 14:44:38+00:00)\n",
      "Tweet(id=1594191387519373313, author=User(id=44196397, username=elonmusk, name=Elon Musk, verified=True), created_on=2022-11-20 04:50:20+00:00)\n",
      "Tweet(id=1667289678612156416, author=User(id=44196397, username=elonmusk, name=Elon Musk, verified=True), created_on=2023-06-09 21:56:50+00:00)\n",
      "Tweet(id=1585341984679469056, author=User(id=44196397, username=elonmusk, name=Elon Musk, verified=True), created_on=2022-10-26 18:45:58+00:00)\n",
      "Tweet(id=1521202951230046210, author=User(id=44196397, username=elonmusk, name=Elon Musk, verified=True), created_on=2022-05-02 19:00:20+00:00)\n",
      "Tweet(id=1588750686006947840, author=User(id=44196397, username=elonmusk, name=Elon Musk, verified=True), created_on=2022-11-05 04:30:55+00:00)\n",
      "Tweet(id=1053390822991790083, author=User(id=44196397, username=elonmusk, name=Elon Musk, verified=True), created_on=2018-10-19 21:01:57+00:00)\n",
      "Tweet(id=1590755506112823296, author=User(id=44196397, username=elonmusk, name=Elon Musk, verified=True), created_on=2022-11-10 17:17:22+00:00)\n",
      "Tweet(id=1601894132573605888, author=User(id=44196397, username=elonmusk, name=Elon Musk, verified=True), created_on=2022-12-11 10:58:17+00:00)\n",
      "Tweet(id=1625695877326340102, author=User(id=44196397, username=elonmusk, name=Elon Musk, verified=True), created_on=2023-02-15 03:17:55+00:00)\n",
      "Tweet(id=1601624795585486848, author=User(id=44196397, username=elonmusk, name=Elon Musk, verified=True), created_on=2022-12-10 17:08:02+00:00)\n",
      "Tweet(id=1607997591870124032, author=User(id=44196397, username=elonmusk, name=Elon Musk, verified=True), created_on=2022-12-28 07:11:15+00:00)\n",
      "Tweet(id=1503287788652871680, author=User(id=44196397, username=elonmusk, name=Elon Musk, verified=True), created_on=2022-03-14 08:31:53+00:00)\n",
      "Tweet(id=1514720245113577473, author=User(id=44196397, username=elonmusk, name=Elon Musk, verified=True), created_on=2022-04-14 21:40:23+00:00)\n",
      "Tweet(id=1520017094007476224, author=User(id=44196397, username=elonmusk, name=Elon Musk, verified=True), created_on=2022-04-29 12:28:10+00:00)\n",
      "Tweet(id=1530380264966434823, author=User(id=44196397, username=elonmusk, name=Elon Musk, verified=True), created_on=2022-05-28 02:47:42+00:00)\n",
      "Tweet(id=1523658010241155073, author=User(id=44196397, username=elonmusk, name=Elon Musk, verified=True), created_on=2022-05-09 13:35:52+00:00)\n",
      "Tweet(id=1511982702819520512, author=User(id=44196397, username=elonmusk, name=Elon Musk, verified=True), created_on=2022-04-07 08:22:22+00:00)\n",
      "Tweet(id=1546344529460174849, author=User(id=44196397, username=elonmusk, name=Elon Musk, verified=True), created_on=2022-07-11 04:04:00+00:00)\n",
      "Tweet(id=1520650036865949696, author=User(id=44196397, username=elonmusk, name=Elon Musk, verified=True), created_on=2022-05-01 06:23:15+00:00)\n",
      "Tweet(id=1587297137099931649, author=User(id=44196397, username=elonmusk, name=Elon Musk, verified=True), created_on=2022-11-01 04:15:02+00:00)\n",
      "Tweet(id=1388693126206918658, author=User(id=44196397, username=elonmusk, name=Elon Musk, verified=True), created_on=2021-05-02 03:13:36+00:00)\n",
      "Tweet(id=1524883482836623373, author=User(id=44196397, username=elonmusk, name=Elon Musk, verified=True), created_on=2022-05-12 22:45:27+00:00)\n",
      "Tweet(id=1587627120355934208, author=User(id=44196397, username=elonmusk, name=Elon Musk, verified=True), created_on=2022-11-02 02:06:16+00:00)\n",
      "Tweet(id=1594500655724609536, author=User(id=44196397, username=elonmusk, name=Elon Musk, verified=True), created_on=2022-11-21 01:19:15+00:00)\n",
      "Tweet(id=1587911540770222081, author=User(id=44196397, username=elonmusk, name=Elon Musk, verified=True), created_on=2022-11-02 20:56:27+00:00)\n",
      "Tweet(id=1625377144137461761, author=User(id=44196397, username=elonmusk, name=Elon Musk, verified=True), created_on=2023-02-14 06:11:23+00:00)\n",
      "Tweet(id=1608828315581976576, author=User(id=44196397, username=elonmusk, name=Elon Musk, verified=True), created_on=2022-12-30 14:12:15+00:00)\n",
      "Tweet(id=1587297730631696384, author=User(id=44196397, username=elonmusk, name=Elon Musk, verified=True), created_on=2022-11-01 04:17:24+00:00)\n",
      "Tweet(id=1357236825589432322, author=User(id=44196397, username=elonmusk, name=Elon Musk, verified=True), created_on=2021-02-04 07:57:30+00:00)\n",
      "Tweet(id=1595207476936413187, author=User(id=44196397, username=elonmusk, name=Elon Musk, verified=True), created_on=2022-11-23 00:07:54+00:00)\n",
      "Tweet(id=1585966869122457600, author=User(id=44196397, username=elonmusk, name=Elon Musk, verified=True), created_on=2022-10-28 12:09:02+00:00)\n",
      "Tweet(id=1604650028999405568, author=User(id=44196397, username=elonmusk, name=Elon Musk, verified=True), created_on=2022-12-19 01:29:14+00:00)\n",
      "Tweet(id=1594131768298315777, author=User(id=44196397, username=elonmusk, name=Elon Musk, verified=True), created_on=2022-11-20 00:53:25+00:00)\n",
      "Tweet(id=1587129795732770824, author=User(id=44196397, username=elonmusk, name=Elon Musk, verified=True), created_on=2022-10-31 17:10:05+00:00)\n",
      "Tweet(id=1511011921495011328, author=User(id=44196397, username=elonmusk, name=Elon Musk, verified=True), created_on=2022-04-04 16:04:49+00:00)\n",
      "Tweet(id=1347978218494513152, author=User(id=44196397, username=elonmusk, name=Elon Musk, verified=True), created_on=2021-01-09 18:47:06+00:00)\n",
      "Tweet(id=1683378289031761920, author=User(id=44196397, username=elonmusk, name=Elon Musk, verified=True), created_on=2023-07-24 07:27:14+00:00)\n",
      "Tweet(id=1641858340752875535, author=User(id=44196397, username=elonmusk, name=Elon Musk, verified=True), created_on=2023-03-31 17:41:47+00:00)\n",
      "Tweet(id=1514564966564651008, author=User(id=44196397, username=elonmusk, name=Elon Musk, verified=True), created_on=2022-04-14 11:23:21+00:00)\n",
      "Tweet(id=1597405399040217088, author=User(id=44196397, username=elonmusk, name=Elon Musk, verified=True), created_on=2022-11-29 01:41:40+00:00)\n",
      "Tweet(id=1349286488618491904, author=User(id=44196397, username=elonmusk, name=Elon Musk, verified=True), created_on=2021-01-13 09:25:42+00:00)\n",
      "Tweet(id=1618371072486936578, author=User(id=44196397, username=elonmusk, name=Elon Musk, verified=True), created_on=2023-01-25 22:11:46+00:00)\n",
      "Tweet(id=1642962756906418176, author=User(id=44196397, username=elonmusk, name=Elon Musk, verified=True), created_on=2023-04-03 18:50:20+00:00)\n",
      "Tweet(id=1609254628113420290, author=User(id=44196397, username=elonmusk, name=Elon Musk, verified=True), created_on=2022-12-31 18:26:16+00:00)\n",
      "Tweet(id=1680423042873278465, author=User(id=44196397, username=elonmusk, name=Elon Musk, verified=True), created_on=2023-07-16 03:44:08+00:00)\n",
      "Tweet(id=1374617643446063105, author=User(id=44196397, username=elonmusk, name=Elon Musk, verified=True), created_on=2021-03-24 07:02:40+00:00)\n",
      "Tweet(id=1666964082363371520, author=User(id=44196397, username=elonmusk, name=Elon Musk, verified=True), created_on=2023-06-09 00:23:02+00:00)\n",
      "Tweet(id=1266811094527508481, author=User(id=44196397, username=elonmusk, name=Elon Musk, verified=True), created_on=2020-05-30 19:17:55+00:00)\n",
      "Tweet(id=1597165510595989504, author=User(id=44196397, username=elonmusk, name=Elon Musk, verified=True), created_on=2022-11-28 09:48:26+00:00)\n",
      "Tweet(id=1517215066550116354, author=User(id=44196397, username=elonmusk, name=Elon Musk, verified=True), created_on=2022-04-21 18:53:55+00:00)\n",
      "Tweet(id=1276396101872922625, author=User(id=44196397, username=elonmusk, name=Elon Musk, verified=True), created_on=2020-06-26 06:05:19+00:00)\n",
      "Tweet(id=1559691922725281800, author=User(id=44196397, username=elonmusk, name=Elon Musk, verified=True), created_on=2022-08-17 00:01:46+00:00)\n",
      "Tweet(id=1519036983137509376, author=User(id=44196397, username=elonmusk, name=Elon Musk, verified=True), created_on=2022-04-26 19:33:33+00:00)\n",
      "Tweet(id=1526997132858822658, author=User(id=44196397, username=elonmusk, name=Elon Musk, verified=True), created_on=2022-05-18 18:44:21+00:00)\n",
      "Tweet(id=1432818021836357634, author=User(id=44196397, username=elonmusk, name=Elon Musk, verified=True), created_on=2021-08-31 21:30:11+00:00)\n",
      "Tweet(id=1649052609590992901, author=User(id=44196397, username=elonmusk, name=Elon Musk, verified=True), created_on=2023-04-20 14:09:14+00:00)\n",
      "Tweet(id=1597336812732575744, author=User(id=44196397, username=elonmusk, name=Elon Musk, verified=True), created_on=2022-11-28 21:09:07+00:00)\n",
      "Tweet(id=1361252063926251521, author=User(id=44196397, username=elonmusk, name=Elon Musk, verified=True), created_on=2021-02-15 09:52:37+00:00)\n",
      "Tweet(id=1672582593638957056, author=User(id=44196397, username=elonmusk, name=Elon Musk, verified=True), created_on=2023-06-24 12:29:00+00:00)\n",
      "Tweet(id=1593767953706921985, author=User(id=44196397, username=elonmusk, name=Elon Musk, verified=True), created_on=2022-11-19 00:47:45+00:00)\n",
      "Tweet(id=1662654838398697472, author=User(id=44196397, username=elonmusk, name=Elon Musk, verified=True), created_on=2023-05-28 02:59:38+00:00)\n",
      "Tweet(id=1525305145239781377, author=User(id=44196397, username=elonmusk, name=Elon Musk, verified=True), created_on=2022-05-14 02:41:00+00:00)\n",
      "Tweet(id=1520021098934554624, author=User(id=44196397, username=elonmusk, name=Elon Musk, verified=True), created_on=2022-04-29 12:44:05+00:00)\n",
      "Tweet(id=1607590239874211847, author=User(id=44196397, username=elonmusk, name=Elon Musk, verified=True), created_on=2022-12-27 04:12:35+00:00)\n",
      "Tweet(id=1518614732839735304, author=User(id=44196397, username=elonmusk, name=Elon Musk, verified=True), created_on=2022-04-25 15:35:41+00:00)\n",
      "Tweet(id=1497701484003213317, author=User(id=44196397, username=elonmusk, name=Elon Musk, verified=True), created_on=2022-02-26 22:33:54+00:00)\n",
      "Tweet(id=1505100708256825347, author=User(id=44196397, username=elonmusk, name=Elon Musk, verified=True), created_on=2022-03-19 08:35:46+00:00)\n",
      "Tweet(id=1658960642445910017, author=User(id=44196397, username=elonmusk, name=Elon Musk, verified=True), created_on=2023-05-17 22:20:13+00:00)\n",
      "Tweet(id=1358319935978496001, author=User(id=44196397, username=elonmusk, name=Elon Musk, verified=True), created_on=2021-02-07 07:41:23+00:00)\n",
      "Tweet(id=1129274835173908481, author=User(id=44196397, username=elonmusk, name=Elon Musk, verified=True), created_on=2019-05-17 06:37:56+00:00)\n",
      "Tweet(id=1647629006089461761, author=User(id=44196397, username=elonmusk, name=Elon Musk, verified=True), created_on=2023-04-16 15:52:21+00:00)\n",
      "Tweet(id=1375033483148451842, author=User(id=44196397, username=elonmusk, name=Elon Musk, verified=True), created_on=2021-03-25 10:35:03+00:00)\n",
      "Tweet(id=1677470862436450308, author=User(id=44196397, username=elonmusk, name=Elon Musk, verified=True), created_on=2023-07-08 00:13:14+00:00)\n",
      "Tweet(id=1629598417159692288, author=User(id=44196397, username=elonmusk, name=Elon Musk, verified=True), created_on=2023-02-25 21:45:13+00:00)\n",
      "Tweet(id=1593624195136487426, author=User(id=44196397, username=elonmusk, name=Elon Musk, verified=True), created_on=2022-11-18 15:16:30+00:00)\n",
      "Tweet(id=1276418907968925696, author=User(id=44196397, username=elonmusk, name=Elon Musk, verified=True), created_on=2020-06-26 07:35:57+00:00)\n",
      "Tweet(id=1358542364948668418, author=User(id=44196397, username=elonmusk, name=Elon Musk, verified=True), created_on=2021-02-07 22:25:14+00:00)\n",
      "Tweet(id=1205030950750412800, author=User(id=44196397, username=elonmusk, name=Elon Musk, verified=True), created_on=2019-12-12 07:45:41+00:00)\n",
      "Tweet(id=1680692891142746113, author=User(id=44196397, username=elonmusk, name=Elon Musk, verified=True), created_on=2023-07-16 21:36:25+00:00)\n"
     ]
    }
   ],
   "source": [
    "from tweety import Twitter\n",
    "\n",
    "app = Twitter(\"session\")\n",
    "\n",
    "all_tweets = app.get_tweets(\"elonmusk\")\n",
    "for tweet in all_tweets:\n",
    "    print(tweet)"
   ]
  }
 ],
 "metadata": {
  "kernelspec": {
   "display_name": "Python 3",
   "language": "python",
   "name": "python3"
  },
  "language_info": {
   "codemirror_mode": {
    "name": "ipython",
    "version": 3
   },
   "file_extension": ".py",
   "mimetype": "text/x-python",
   "name": "python",
   "nbconvert_exporter": "python",
   "pygments_lexer": "ipython3",
   "version": "3.11.2"
  },
  "orig_nbformat": 4
 },
 "nbformat": 4,
 "nbformat_minor": 2
}
